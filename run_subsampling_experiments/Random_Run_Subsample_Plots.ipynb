{
 "cells": [
  {
   "cell_type": "code",
   "execution_count": null,
   "metadata": {},
   "outputs": [],
   "source": [
    "import pandas as pd\n",
    "import numpy as np\n",
    "\n",
    "import matplotlib.pyplot as plt\n",
    "import seaborn as sns\n",
    "\n",
    "from scipy import stats\n",
    "import scipy"
   ]
  },
  {
   "cell_type": "code",
   "execution_count": null,
   "metadata": {
    "scrolled": true
   },
   "outputs": [],
   "source": [
    "sizes = [2, 4, 8, 16, 32, 64, 96]\n",
    "results = np.zeros((len(sizes), 4))\n",
    "\n",
    "\n",
    "for s in range(len(sizes)):\n",
    "    #print(\"Subsample size \", sizes[s])\n",
    "    all_dfs = []\n",
    "    for random_run in range(10):\n",
    "        df = pd.read_csv('trained_models/2019_guo_nci60_result_scores_random_subsampling_' + str(sizes[s]) + 'random_run' + str(random_run) + '.tsv',\n",
    "                         index_col = 0, sep = '\\t')\n",
    "        all_dfs.append(df)\n",
    "    \n",
    "    joined_df = pd.concat(all_dfs, axis = 0)\n",
    "    #print(joined_df)\n",
    "    results[s, :] = np.mean(joined_df.values, axis = 0)\n",
    "    \n",
    "results"
   ]
  },
  {
   "cell_type": "code",
   "execution_count": null,
   "metadata": {},
   "outputs": [],
   "source": [
    "#Joined plot\n",
    "import matplotlib.pyplot as plt\n",
    "import seaborn as sns\n",
    "\n",
    "fig, ax = plt.subplots()\n",
    "fig.set_size_inches(40, 20)\n",
    "\n",
    "SMALL_SIZE = 40\n",
    "MEDIUM_SIZE = 50\n",
    "BIGGER_SIZE = 70\n",
    "\n",
    "plt.rc('font', size=SMALL_SIZE)          # controls default text sizes\n",
    "plt.rc('axes', titlesize=MEDIUM_SIZE)     # fontsize of the axes title\n",
    "plt.rc('axes', labelsize=MEDIUM_SIZE)    # fontsize of the x and y labels\n",
    "plt.rc('xtick', labelsize=MEDIUM_SIZE)    # fontsize of the tick labels\n",
    "plt.rc('ytick', labelsize=MEDIUM_SIZE)    # fontsize of the tick labels\n",
    "plt.rc('legend', fontsize=SMALL_SIZE)    # legend fontsize\n",
    "plt.rc('figure', titlesize=BIGGER_SIZE)  # fontsize of the figure title\n",
    " \n",
    "plt.plot(sizes, results[:, -1], 'o-', \n",
    "         lw = 10, markersize = 35, color='#eb4d4b', label = 'Test')\n",
    "\n",
    "plt.errorbar(sizes, results[:, -1], \n",
    "             stats.sem(results[:, -1]),\n",
    "             lw = 5,\n",
    "             linestyle='None', marker='^', color = '#eb4d4b')\n",
    "\n",
    "\n",
    "\n",
    "\n",
    "plt.xlabel('Number of subsampled train runs')\n",
    "plt.ylabel('Percent improvement over baseline')\n",
    "plt.grid()\n",
    "#plt.xscale('log')\n",
    "ax.set_xticks(sizes)\n",
    "ax.set_xticklabels(sizes)\n",
    "plt.show()"
   ]
  },
  {
   "cell_type": "code",
   "execution_count": null,
   "metadata": {},
   "outputs": [],
   "source": []
  },
  {
   "cell_type": "code",
   "execution_count": null,
   "metadata": {},
   "outputs": [],
   "source": []
  },
  {
   "cell_type": "code",
   "execution_count": null,
   "metadata": {},
   "outputs": [],
   "source": []
  },
  {
   "cell_type": "code",
   "execution_count": null,
   "metadata": {},
   "outputs": [],
   "source": []
  },
  {
   "cell_type": "code",
   "execution_count": null,
   "metadata": {},
   "outputs": [],
   "source": []
  }
 ],
 "metadata": {
  "kernelspec": {
   "display_name": "Python 3",
   "language": "python",
   "name": "python3"
  },
  "language_info": {
   "codemirror_mode": {
    "name": "ipython",
    "version": 3
   },
   "file_extension": ".py",
   "mimetype": "text/x-python",
   "name": "python",
   "nbconvert_exporter": "python",
   "pygments_lexer": "ipython3",
   "version": "3.6.8"
  }
 },
 "nbformat": 4,
 "nbformat_minor": 2
}
