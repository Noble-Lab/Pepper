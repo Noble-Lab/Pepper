{
 "cells": [
  {
   "cell_type": "code",
   "execution_count": null,
   "metadata": {},
   "outputs": [],
   "source": [
    "import numpy as np\n",
    "import pandas as pd\n",
    "\n",
    "import random\n",
    "import copy\n",
    "\n",
    "from sklearn.model_selection import cross_val_score\n",
    "from sklearn.model_selection import KFold\n",
    "from sklearn.preprocessing import StandardScaler\n",
    "from sklearn.pipeline import Pipeline\n",
    "from sklearn.model_selection import train_test_split\n",
    "from sklearn.preprocessing import StandardScaler\n",
    "from sklearn.metrics import mean_squared_error\n",
    "\n",
    "from scipy import stats\n",
    "import scipy\n",
    "\n",
    "import sys\n",
    "\n",
    "from functools import reduce"
   ]
  },
  {
   "cell_type": "markdown",
   "metadata": {},
   "source": [
    "## Combine all CPTAC TMT11 Lumos datasets"
   ]
  },
  {
   "cell_type": "code",
   "execution_count": null,
   "metadata": {},
   "outputs": [],
   "source": [
    "target_dataset = 'CPTAC_S051_BRCA'\n",
    "\n",
    "all_dataset_names = ['CPTAC_S048_GBM', \n",
    "                     'CPTAC_S054_HNSCC', \n",
    "                     'CPTAC_S058_LSCC', \n",
    "                     'CPTAC_S061_PDAC']\n",
    "\n",
    "all_dfs = []\n",
    "for dataset in all_dataset_names:\n",
    "    print(\"----------\", dataset)\n",
    "    \n",
    "    data_df = pd.read_csv('../preprocess_datasets/preprocessed_datasets/'+ dataset + '_formatted_peptide_quants.tsv', \n",
    "                          sep = '\\t', index_col = 0)\n",
    "    print(\"Formatted peptides df \", data_df.shape)\n",
    "    #print(\"Formatted peptides df \", data_df)\n",
    "    all_dfs.append(data_df)\n",
    "    \n",
    "joined_data_df = reduce(lambda x, y: pd.merge(x, y,  on = ['Peptide', 'PeptideSequenceModifications',\n",
    "                                                          'Protein', 'Gene', 'QueryCharge',\n",
    "                                                          'Charge 1', 'Charge 2', 'Charge 3',\n",
    "                                                          'Charge 4', 'Charge 5', 'Charge 6'],  how='outer'), all_dfs)\n",
    "\n",
    "joined_data_df.to_csv('../preprocess_datasets/preprocessed_datasets/all_CPTAC_Lumos_TMT11_datasets_except_' + target_dataset + '_joined_formatted_peptide_quants.tsv', sep = '\\t')\n",
    "joined_data_df\n",
    "\n",
    "\n",
    "\n",
    "\n",
    "\n"
   ]
  },
  {
   "cell_type": "code",
   "execution_count": null,
   "metadata": {},
   "outputs": [],
   "source": [
    "#One-hot encode the joined data\n",
    "%run  \"../preprocess_datasets/onehot_encode_peptide_sequences.py\" \\\n",
    "      \"../preprocess_datasets/preprocessed_datasets/all_CPTAC_Lumos_TMT11_datasets_except_CPTAC_S051_BRCA_joined_formatted_peptide_quants.tsv\" \\\n",
    "      \"765\" \"../preprocess_datasets/preprocessed_datasets/all_CPTAC_Lumos_TMT11_datasets_except_CPTAC_S051_BRCA_joined_onehot_encoded_peptide_quants.tsv\" \n",
    "      "
   ]
  },
  {
   "cell_type": "code",
   "execution_count": null,
   "metadata": {},
   "outputs": [],
   "source": []
  }
 ],
 "metadata": {
  "kernelspec": {
   "display_name": "Python 3",
   "language": "python",
   "name": "python3"
  },
  "language_info": {
   "codemirror_mode": {
    "name": "ipython",
    "version": 3
   },
   "file_extension": ".py",
   "mimetype": "text/x-python",
   "name": "python",
   "nbconvert_exporter": "python",
   "pygments_lexer": "ipython3",
   "version": "3.6.8"
  }
 },
 "nbformat": 4,
 "nbformat_minor": 2
}
