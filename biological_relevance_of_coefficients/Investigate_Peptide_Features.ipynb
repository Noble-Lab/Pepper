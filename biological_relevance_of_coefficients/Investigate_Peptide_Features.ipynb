{
 "cells": [
  {
   "cell_type": "markdown",
   "metadata": {},
   "source": [
    "# Investigate the correlation between pepper coefficients and physicochemical properties of peptides  "
   ]
  },
  {
   "cell_type": "code",
   "execution_count": null,
   "metadata": {},
   "outputs": [],
   "source": [
    "import numpy as np\n",
    "import pandas as pd\n",
    "\n",
    "import matplotlib.pyplot as plt\n",
    "import seaborn as sns"
   ]
  },
  {
   "cell_type": "code",
   "execution_count": null,
   "metadata": {},
   "outputs": [],
   "source": [
    "sequence_df = pd.read_csv('../preprocess_datasets/preprocessed_datasets/2019_guo_nci60_formatted_peptide_quants.tsv',\n",
    "                          sep = '\\t', index_col = 0)\n",
    "\n",
    "#Read the peptide coefficients\n",
    "coeff_df = pd.read_csv('../trained_models/2019_guo_nci60/2019_guo_nci60_inferred_coefficients.tsv', sep = '\\t', index_col = 0)\n",
    "coeff_df.index = sequence_df.index\n",
    "coeff_df = pd.concat([sequence_df.iloc[:, :2], coeff_df], axis = 1)\n",
    "coeff_df.columns = ['Sequence', 'Protein', 'Coefficient']\n",
    "coeff_df.sort_values(by = 'Coefficient')"
   ]
  },
  {
   "cell_type": "markdown",
   "metadata": {},
   "source": [
    "## 1) Plot distribution of coefficients"
   ]
  },
  {
   "cell_type": "code",
   "execution_count": null,
   "metadata": {},
   "outputs": [],
   "source": [
    "#Create histogram of coefficients\n",
    "\n",
    "#Create plots\n",
    "SMALL_SIZE = 50\n",
    "MEDIUM_SIZE = 60\n",
    "BIGGER_SIZE = 70\n",
    "\n",
    "plt.rc('font', size=SMALL_SIZE)          # controls default text sizes\n",
    "plt.rc('axes', titlesize=MEDIUM_SIZE)     # fontsize of the axes title\n",
    "plt.rc('axes', labelsize=MEDIUM_SIZE)    # fontsize of the x and y labels\n",
    "plt.rc('xtick', labelsize=MEDIUM_SIZE)    # fontsize of the tick labels\n",
    "plt.rc('ytick', labelsize=MEDIUM_SIZE)    # fontsize of the tick labels\n",
    "plt.rc('legend', fontsize=SMALL_SIZE)    # legend fontsize\n",
    "plt.rc('figure', titlesize=BIGGER_SIZE)  # fontsize of the figure title\n",
    "\n",
    "fig, ax = plt.subplots(figsize=(40, 20))\n",
    "\n",
    "sns.distplot(coeff_df['Coefficient'].values, bins = 200, \n",
    "             hist = True, kde = False, label = 'Raw abundances')\n",
    "\n",
    "plt.grid(which='both')\n",
    "plt.grid(b=True, which='major')\n",
    "plt.grid(b=True, which='minor')\n",
    "\n",
    "plt.xlabel('Peptide coefficients')\n",
    "plt.ylabel('Density')\n",
    "plt.title('Distribution of peptide coefficients')\n",
    "\n"
   ]
  },
  {
   "cell_type": "code",
   "execution_count": null,
   "metadata": {},
   "outputs": [],
   "source": [
    "#Create histogram of log coefficients\n",
    "\n",
    "SMALL_SIZE = 50\n",
    "MEDIUM_SIZE = 60\n",
    "BIGGER_SIZE = 70\n",
    "\n",
    "plt.rc('font', size=SMALL_SIZE)          # controls default text sizes\n",
    "plt.rc('axes', titlesize=MEDIUM_SIZE)     # fontsize of the axes title\n",
    "plt.rc('axes', labelsize=MEDIUM_SIZE)    # fontsize of the x and y labels\n",
    "plt.rc('xtick', labelsize=MEDIUM_SIZE)    # fontsize of the tick labels\n",
    "plt.rc('ytick', labelsize=MEDIUM_SIZE)    # fontsize of the tick labels\n",
    "plt.rc('legend', fontsize=SMALL_SIZE)    # legend fontsize\n",
    "plt.rc('figure', titlesize=BIGGER_SIZE)  # fontsize of the figure title\n",
    "\n",
    "fig, ax = plt.subplots(figsize=(40, 20))\n",
    "\n",
    "sns.distplot(np.log2(coeff_df['Coefficient'].values), bins = 200, \n",
    "             hist = True, kde = False, label = 'Raw abundances')\n",
    "\n",
    "plt.grid(which='both')\n",
    "plt.grid(b=True, which='major')\n",
    "plt.grid(b=True, which='minor')\n",
    "\n",
    "plt.xlabel('Peptide coefficients (log scaled)')\n",
    "plt.ylabel('Density')\n",
    "plt.title('Distribution of peptide coefficients')\n",
    "\n",
    "\n"
   ]
  },
  {
   "cell_type": "markdown",
   "metadata": {},
   "source": [
    "## 2) Plot coefficient vs peptide length"
   ]
  },
  {
   "cell_type": "code",
   "execution_count": null,
   "metadata": {},
   "outputs": [],
   "source": [
    "#Record peptide sequence lengths\n",
    "sequence_lengths = [len(s) for s in coeff_df['Sequence'].values]\n",
    "sequence_lengths = pd.DataFrame(sequence_lengths, index = coeff_df.index, columns = ['Sequence Length'])\n",
    "\n",
    "coeff_df = pd.concat([coeff_df, sequence_lengths], axis = 1)\n",
    "coeff_df"
   ]
  },
  {
   "cell_type": "code",
   "execution_count": null,
   "metadata": {},
   "outputs": [],
   "source": [
    "#Create plot with std error\n",
    "\n",
    "from scipy import stats\n",
    "import matplotlib.pyplot as plt\n",
    "import seaborn as sns\n",
    "\n",
    "fig, ax = plt.subplots()\n",
    "fig.set_size_inches(30, 20)\n",
    "\n",
    "SMALL_SIZE = 60\n",
    "MEDIUM_SIZE = 80\n",
    "BIGGER_SIZE = 90\n",
    "\n",
    "plt.rc('font', size=SMALL_SIZE)          # controls default text sizes\n",
    "plt.rc('axes', titlesize=MEDIUM_SIZE)     # fontsize of the axes title\n",
    "plt.rc('axes', labelsize=MEDIUM_SIZE)    # fontsize of the x and y labels\n",
    "plt.rc('xtick', labelsize=SMALL_SIZE)    # fontsize of the tick labels\n",
    "plt.rc('ytick', labelsize=SMALL_SIZE)    # fontsize of the tick labels\n",
    "plt.rc('legend', fontsize=SMALL_SIZE)    # legend fontsize\n",
    "plt.rc('figure', titlesize=BIGGER_SIZE)  # fontsize of the figure title\n",
    " \n",
    "#Eliminate outliers\n",
    "coeff_df = coeff_df[coeff_df['Sequence Length'] <= 45]\n",
    "all_scores = coeff_df.groupby('Sequence Length').median().values\n",
    "\n",
    "error_scores = coeff_df.groupby('Sequence Length')['Coefficient'].apply(lambda x:stats.sem(x))\n",
    "error_scores[np.isnan(error_scores)] = 0\n",
    "error_scores = error_scores.astype(float)\n",
    "\n",
    "plt.scatter(coeff_df.groupby('Sequence Length').median().index, \n",
    "            all_scores, \n",
    "            s = 500, lw = 10, color='#eb4d4b', alpha = 0.5)\n",
    "\n",
    "plt.errorbar(coeff_df.groupby('Sequence Length').median().index, all_scores, list(error_scores), \n",
    "             lw = 5, linestyle='None', marker='^', color = '#eb4d4b', alpha = 0.8)\n",
    "\n",
    "#plt.xticks(coeff_df.groupby('Sequence Length').mean().index, rotation = 90)\n",
    "plt.xlabel('Sequence length')\n",
    "plt.ylabel('Median peptide coefficient')\n",
    "plt.grid()\n"
   ]
  },
  {
   "cell_type": "markdown",
   "metadata": {},
   "source": [
    "## 3) Plot distribution of hydrophobicity"
   ]
  },
  {
   "cell_type": "code",
   "execution_count": null,
   "metadata": {
    "scrolled": true
   },
   "outputs": [],
   "source": [
    "aa_df = pd.read_csv('AAindex_aminoacid_scores.tsv', \n",
    "                    sep = '\\t', index_col = 0)\n",
    "aa_df"
   ]
  },
  {
   "cell_type": "code",
   "execution_count": null,
   "metadata": {},
   "outputs": [],
   "source": [
    "#Calculate scores by summing and averaging scores for each amino acid \n",
    "all_total_scores = []\n",
    "all_mean_scores = []\n",
    "for sequence in coeff_df['Sequence'].values:\n",
    "    total_scores_for_sequence = np.zeros(aa_df.shape[0])\n",
    "    length_of_sequence = 0\n",
    "    for aa in list(sequence):\n",
    "        total_scores_for_sequence += aa_df[aa].values\n",
    "        length_of_sequence = length_of_sequence + 1\n",
    "    mean_scores_for_sequence = total_scores_for_sequence / length_of_sequence\n",
    "    \n",
    "    total_scores_for_sequence = pd.DataFrame(total_scores_for_sequence.reshape((1, -1)), \n",
    "                                              columns = aa_df.index)\n",
    "    mean_scores_for_sequence = pd.DataFrame(mean_scores_for_sequence.reshape((1, -1)), \n",
    "                                              columns = aa_df.index)\n",
    "    all_total_scores.append(total_scores_for_sequence)\n",
    "    all_mean_scores.append(mean_scores_for_sequence)\n",
    "    \n",
    "#Concatenate scores for all sequences\n",
    "total_scores_for_sequences = pd.concat(all_total_scores)\n",
    "total_scores_for_sequences.index = coeff_df.index\n",
    "mean_scores_for_sequences = pd.concat(all_mean_scores)\n",
    "mean_scores_for_sequences.index = coeff_df.index\n",
    "\n",
    "total_scores_for_sequences"
   ]
  },
  {
   "cell_type": "code",
   "execution_count": null,
   "metadata": {
    "scrolled": false
   },
   "outputs": [],
   "source": [
    "#Create plot with std error\n",
    "\n",
    "from scipy import stats\n",
    "import matplotlib.pyplot as plt\n",
    "import seaborn as sns\n",
    "\n",
    "fig, ax = plt.subplots()\n",
    "fig.set_size_inches(30, 20)\n",
    "SMALL_SIZE = 60\n",
    "MEDIUM_SIZE = 80\n",
    "BIGGER_SIZE = 90\n",
    "\n",
    "plt.rc('font', size=SMALL_SIZE)          # controls default text sizes\n",
    "plt.rc('axes', titlesize=MEDIUM_SIZE)     # fontsize of the axes title\n",
    "plt.rc('axes', labelsize=MEDIUM_SIZE)    # fontsize of the x and y labels\n",
    "plt.rc('xtick', labelsize=SMALL_SIZE)    # fontsize of the tick labels\n",
    "plt.rc('ytick', labelsize=SMALL_SIZE)    # fontsize of the tick labels\n",
    "plt.rc('legend', fontsize=SMALL_SIZE)    # legend fontsize\n",
    "plt.rc('figure', titlesize=BIGGER_SIZE)  # fontsize of the figure title\n",
    " \n",
    "hydrophilicity_scores = total_scores_for_sequences['PRAM900101']\n",
    "coefficients = coeff_df['Coefficient'].values\n",
    "\n",
    "#group coefficients hydrophilicity\n",
    "bins = np.arange(-250, 550, 50)\n",
    "xtick_labels = []\n",
    "for bin_index in range(1, len(bins) - 1):\n",
    "    xtick_labels.append(str(str(bins[bin_index]) + \":\" + str(bins[bin_index + 1])))\n",
    "    \n",
    "norm_binned_zen = [coefficients[np.where((hydrophilicity_scores > low) & (hydrophilicity_scores <= high))] for low, high in zip(bins[:-1], bins[1:])]\n",
    "\n",
    "for i in range(len(norm_binned_zen)):\n",
    "    plt.scatter(i, np.median(norm_binned_zen[i]), \n",
    "            s = 1000, lw = 10, color='#22a6b3', alpha = 0.5)\n",
    "    \n",
    "    plt.errorbar(i, np.median(norm_binned_zen[i]), \n",
    "                 stats.sem(norm_binned_zen[i]), \n",
    "                 lw = 5, linestyle='None', marker='^', color = '#22a6b3', alpha = 0.8)\n",
    "\n",
    "plt.grid()\n",
    "plt.xlabel('Peptide hydrophobicity')\n",
    "plt.ylabel('Median peptide coefficient')\n",
    "plt.xticks(np.arange(len(xtick_labels)), np.arange(-200, 500, 50), rotation = 90)\n",
    "plt.show()\n",
    "\n"
   ]
  },
  {
   "cell_type": "markdown",
   "metadata": {},
   "source": [
    "## 4) Plot top correlated features"
   ]
  },
  {
   "cell_type": "code",
   "execution_count": null,
   "metadata": {},
   "outputs": [],
   "source": [
    "from scipy.stats import pearsonr\n",
    "\n",
    "feature_correlations = []\n",
    "feature_names = []\n",
    "for f in range(total_scores_for_sequences.shape[1]):\n",
    "    aa_scores = total_scores_for_sequences.iloc[:, f].values\n",
    "    coefficients = coeff_df['Coefficient'].values\n",
    "#     print(\"Aa scores: \", aa_scores)\n",
    "#     print(\"Coefficients: \", coefficients)\n",
    "    \n",
    "    if np.any(np.isnan(aa_scores)):\n",
    "        continue\n",
    "        \n",
    "    corr, pvalue = pearsonr(aa_scores, coefficients)\n",
    "    feature_correlations.append(np.abs(corr))\n",
    "    if '(' in aa_df['Name'].values[f]:\n",
    "        feature_name = aa_df['Name'].values[f][:aa_df['Name'].values[f].index('(')]\n",
    "    else:\n",
    "        feature_name = aa_df['Name'].values[f]\n",
    "    feature_names.append(feature_name)\n",
    "    print(\"Correlation \", np.abs(corr))"
   ]
  },
  {
   "cell_type": "code",
   "execution_count": null,
   "metadata": {},
   "outputs": [],
   "source": [
    "feature_correlations = pd.DataFrame(feature_correlations, index = feature_names)\n",
    "feature_correlations"
   ]
  },
  {
   "cell_type": "code",
   "execution_count": null,
   "metadata": {},
   "outputs": [],
   "source": [
    "#Create plot with std error\n",
    "\n",
    "from scipy import stats\n",
    "import matplotlib.pyplot as plt\n",
    "import seaborn as sns\n",
    "from matplotlib.colors import LinearSegmentedColormap\n",
    "\n",
    "fig, ax = plt.subplots()\n",
    "fig.set_size_inches(5, 30)\n",
    "\n",
    "SMALL_SIZE = 30\n",
    "MEDIUM_SIZE = 40\n",
    "BIGGER_SIZE = 50\n",
    "\n",
    "plt.rc('font', size=SMALL_SIZE)          # controls default text sizes\n",
    "plt.rc('axes', titlesize=MEDIUM_SIZE)     # fontsize of the axes title\n",
    "plt.rc('axes', labelsize=MEDIUM_SIZE)    # fontsize of the x and y labels\n",
    "plt.rc('xtick', labelsize=SMALL_SIZE)    # fontsize of the tick labels\n",
    "plt.rc('ytick', labelsize=SMALL_SIZE)    # fontsize of the tick labels\n",
    "plt.rc('legend', fontsize=SMALL_SIZE)    # legend fontsize\n",
    "plt.rc('figure', titlesize=BIGGER_SIZE)  # fontsize of the figure title\n",
    " \n",
    "scores = feature_correlations.iloc[feature_correlations[0].abs().argsort()][::-1][:25]\n",
    "\n",
    "cmap = LinearSegmentedColormap.from_list('mycmap', ['#ffffff', '#eb4d4b'])\n",
    "\n",
    "sns.heatmap(scores, cmap = cmap, annot = True, \n",
    "            linecolor = '#ffffff', linewidth = 1,\n",
    "            vmin = 0.1, vmax = 0.3)\n",
    "\n",
    "print()"
   ]
  },
  {
   "cell_type": "code",
   "execution_count": null,
   "metadata": {},
   "outputs": [],
   "source": []
  },
  {
   "cell_type": "code",
   "execution_count": null,
   "metadata": {},
   "outputs": [],
   "source": []
  }
 ],
 "metadata": {
  "kernelspec": {
   "display_name": "Python 3",
   "language": "python",
   "name": "python3"
  },
  "language_info": {
   "codemirror_mode": {
    "name": "ipython",
    "version": 3
   },
   "file_extension": ".py",
   "mimetype": "text/x-python",
   "name": "python",
   "nbconvert_exporter": "python",
   "pygments_lexer": "ipython3",
   "version": "3.6.8"
  }
 },
 "nbformat": 4,
 "nbformat_minor": 2
}
