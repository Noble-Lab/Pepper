{
 "cells": [
  {
   "cell_type": "markdown",
   "id": "offensive-triangle",
   "metadata": {},
   "source": [
    "## Preprocessing pipeline\n",
    "### 1. We identify all peptides that occur in more than one protein, and we eliminate these from the matrix. \n",
    "### 2. We identify all peptides that occur in both modified and unmodified forms, and we eliminate these from the matrix.\n",
    "### 3. We eliminate all pairs of peptides that overlap one another due to missed cleavages.\n",
    "### 4. Among the remaining peptides, we identify and remove singletons, i.e., peptides with no siblings.\n",
    "### 5. Finally, we one-hot encode the peptide sequences"
   ]
  },
  {
   "cell_type": "code",
   "execution_count": null,
   "id": "tender-indonesia",
   "metadata": {},
   "outputs": [],
   "source": [
    "import numpy as np\n",
    "import pandas as pd"
   ]
  },
  {
   "cell_type": "code",
   "execution_count": null,
   "id": "upset-sandwich",
   "metadata": {},
   "outputs": [],
   "source": [
    "#Read peptide expressions\n",
    "peptide_filename = '~/../../data/ms-quant/2019_guo_nci60/proteome/processed_peptide_quants.tsv'\n",
    "peptide_df = pd.read_csv(peptide_filename, sep = '\\t')\n",
    "print(\"Total number of peptides: \", peptide_df.shape[0])\n",
    "print(\"Total number of proteins: \", len(np.unique(peptide_df['protein accession number'].values)))\n",
    "peptide_df"
   ]
  },
  {
   "cell_type": "markdown",
   "id": "olympic-cuisine",
   "metadata": {},
   "source": [
    "## 1) Eliminate shared peptides"
   ]
  },
  {
   "cell_type": "code",
   "execution_count": null,
   "id": "sensitive-limit",
   "metadata": {},
   "outputs": [],
   "source": [
    "#Find the peptide sequences with modifications\n",
    "for protein in peptide_df['protein accession number']:\n",
    "    if (';' in protein) or (' ' in protein):\n",
    "        print(protein)"
   ]
  },
  {
   "cell_type": "markdown",
   "id": "hungarian-governor",
   "metadata": {},
   "source": [
    "## 2) Eliminate modified/unmodified"
   ]
  },
  {
   "cell_type": "code",
   "execution_count": null,
   "id": "composite-mailing",
   "metadata": {},
   "outputs": [],
   "source": [
    "#Find the peptide sequences with modifications\n",
    "\n",
    "peptide_sequences = peptide_df['transition group id'].values\n",
    "peptide_sequences = [s[s.index('_')+1:] for s in peptide_sequences]\n",
    "peptide_df['transition group id'] = peptide_sequences\n",
    "\n",
    "#Exclude C-mod peptides\n",
    "peptide_sequences = [s.replace('C(UniMod:4)', 'C') for s in peptide_sequences]\n",
    "\n",
    "peptide_sequences_modified = [s for s in peptide_sequences if 'UniMod' in s]\n",
    "\n",
    "print(\"Total number of peptides with PTM: \", len(peptide_sequences_modified))\n",
    "peptide_sequences_modified"
   ]
  },
  {
   "cell_type": "code",
   "execution_count": null,
   "id": "novel-buffalo",
   "metadata": {},
   "outputs": [],
   "source": [
    "#Find the corresponding sequences\n",
    "peptide_sequences_to_eliminate = []\n",
    "\n",
    "for seq_mod in peptide_sequences_modified:\n",
    "    print(\"Modified: \", seq_mod)\n",
    "    \n",
    "    for seq in peptide_sequences:\n",
    "        if seq == seq_mod.replace('M(UniMod:35)', 'M'):\n",
    "            print(\"Corresponding: \", seq)\n",
    "            #Eliminate a peptide if both modified and unmodified forms exist\n",
    "            peptide_sequences_to_eliminate.append(seq)\n",
    "            peptide_sequences_to_eliminate.append(seq_mod)\n",
    "            print(\"Eliminate: \", seq, \" \", seq_mod)\n",
    "            \n",
    "print(\"Total number of peptides to eliminate: \", len(peptide_sequences_to_eliminate))"
   ]
  },
  {
   "cell_type": "code",
   "execution_count": null,
   "id": "smoking-safety",
   "metadata": {},
   "outputs": [],
   "source": [
    "#Eliminate the sequences\n",
    "peptide_df = peptide_df[~peptide_df['transition group id'].isin(peptide_sequences_to_eliminate)]\n",
    "\n",
    "print(\"Total number of remaining peptides: \", peptide_df.shape[0])\n",
    "peptide_df"
   ]
  },
  {
   "cell_type": "markdown",
   "id": "religious-campus",
   "metadata": {},
   "source": [
    "## 3) Eliminate missed cleavages"
   ]
  },
  {
   "cell_type": "code",
   "execution_count": null,
   "id": "developed-acquisition",
   "metadata": {},
   "outputs": [],
   "source": [
    "#Remove the modifications\n",
    "peptide_sequences = peptide_df['transition group id'].values\n",
    "peptide_sequences = [s.replace('C(UniMod:4)', 'C') for s in peptide_sequences]\n",
    "peptide_sequences = [s.replace('M(UniMod:35)', 'M') for s in peptide_sequences]\n",
    "\n",
    "peptide_df['transition group id'] = peptide_sequences\n",
    "\n",
    "#Find the peptide sequences with missed cleavage\n",
    "peptide_sequences_mc_indices = [index for index in np.arange(len(peptide_sequences)) if 'K' in peptide_sequences[index][:-3] or 'R' in peptide_sequences[index][:-3]]\n",
    "print(\"Total number of peptides with missed cleavage: \", len(peptide_sequences_mc_indices))\n",
    "\n",
    "peptide_sequences_mc = np.array(peptide_sequences)[peptide_sequences_mc_indices]\n",
    "peptide_sequences_mc"
   ]
  },
  {
   "cell_type": "code",
   "execution_count": null,
   "id": "basic-profit",
   "metadata": {},
   "outputs": [],
   "source": [
    "#Find the the corresponding sequences for the missed cleavages\n",
    "\n",
    "#Find all subsets of peptides \n",
    "peptide_sequences_to_eliminate = []\n",
    "\n",
    "for mc_peptide in peptide_sequences_mc:\n",
    "    print(\"\\nPeptide: \", mc_peptide)\n",
    "    \n",
    "    all_sub_peptides = []\n",
    "    for index, peptide in enumerate(peptide_sequences):\n",
    "        if peptide[:-2] in(mc_peptide):\n",
    "            #Find all matching peptides\n",
    "            print(\"Sub: \", peptide)\n",
    "            all_sub_peptides.append(peptide)\n",
    "    \n",
    "    #If no sub peptides we do not need to eliminate\n",
    "    if np.all([len(s)== len(mc_peptide) for s in all_sub_peptides]):\n",
    "        print(\"No need to eliminate\")\n",
    "    \n",
    "    else:\n",
    "        peptide_sequences_to_eliminate.extend(all_sub_peptides)\n",
    "        print(\"Eliminate all\")\n",
    "\n",
    "print(\"Total number of peptides to eliminate: \", len(peptide_sequences_to_eliminate))\n"
   ]
  },
  {
   "cell_type": "code",
   "execution_count": null,
   "id": "viral-writing",
   "metadata": {},
   "outputs": [],
   "source": [
    "#Eliminate the sequences\n",
    "peptide_df = peptide_df[~peptide_df['transition group id'].isin(peptide_sequences_to_eliminate)]\n",
    "print(\"Total number of remaining peptides: \", peptide_df.shape[0])\n",
    "peptide_df"
   ]
  },
  {
   "cell_type": "markdown",
   "id": "pursuant-poison",
   "metadata": {},
   "source": [
    "## 4) Identify and remove singletons"
   ]
  },
  {
   "cell_type": "code",
   "execution_count": null,
   "id": "acknowledged-messenger",
   "metadata": {},
   "outputs": [],
   "source": [
    "#Eliminate any proteins with only one peptide\n",
    "print(\"Eliminating proteins with a single peptide...\")\n",
    "selected_proteins = peptide_df.groupby('protein accession number')['transition group id'].count()[peptide_df.groupby('protein accession number')['transition group id'].count() > 1].index\n",
    "peptide_df = peptide_df[peptide_df['protein accession number'].isin(selected_proteins)]\n",
    "peptide_df"
   ]
  },
  {
   "cell_type": "markdown",
   "id": "continental-independence",
   "metadata": {},
   "source": [
    "## Format the data"
   ]
  },
  {
   "cell_type": "code",
   "execution_count": null,
   "id": "broad-kazakhstan",
   "metadata": {},
   "outputs": [],
   "source": [
    "#Record charge states as well\n",
    "print(\"Recording charge states...\")\n",
    "\n",
    "peptide_sequences = peptide_df['transition group id'].values\n",
    "\n",
    "charge_states = peptide_df['transition group id'].values\n",
    "charge_states = [s[s.index('_') + 1:] for s in peptide_sequences]\n",
    "charge_states = pd.DataFrame(charge_states, index = peptide_df.index, columns = ['Charge'])\n",
    "print(\"Charge states \", charge_states)\n",
    "\n",
    "# define universe of possible input values\n",
    "alphabet = '123456'\n",
    "\n",
    "# define a mapping of chars to integers\n",
    "char_to_int = dict((c, i) for i, c in enumerate(alphabet))\n",
    "\n",
    "# integer encode input data\n",
    "integer_encoded = [char_to_int[char] for char in charge_states.values.ravel()]\n",
    "\n",
    "# one-hot encode\n",
    "onehot_encoded = list()\n",
    "for value in integer_encoded:\n",
    "    letter = [0 for _ in range(len(alphabet))]\n",
    "    letter[value] = 1\n",
    "    onehot_encoded.append(letter)\n",
    "\n",
    "charge_states = pd.DataFrame(onehot_encoded, index = peptide_df.index, \n",
    "                             columns = ['Charge 1', 'Charge 2', 'Charge 3', 'Charge 4', 'Charge 5', 'Charge 6'])\n",
    "print(\"Charge states \", charge_states)\n",
    "\n",
    "peptide_sequences = [s[:s.index('_')] for s in peptide_sequences]\n",
    "peptide_df['transition group id'] = peptide_sequences\n",
    "peptide_df"
   ]
  },
  {
   "cell_type": "code",
   "execution_count": null,
   "id": "coordinated-afternoon",
   "metadata": {},
   "outputs": [],
   "source": [
    "#Reformat the dataset\n",
    "no_of_runs = 120\n",
    "peptide_df = peptide_df.rename(columns={\"transition group id\": \"Peptide\", \"protein accession number\": \"Protein\"})\n",
    "peptide_df = pd.concat([peptide_df.iloc[:, :-no_of_runs], charge_states, peptide_df.iloc[:, -no_of_runs:]], axis = 1)\n",
    "print(\"Final df \", peptide_df.shape)\n",
    "peptide_df"
   ]
  },
  {
   "cell_type": "code",
   "execution_count": null,
   "id": "transparent-haven",
   "metadata": {},
   "outputs": [],
   "source": [
    "#Record final dataset\n",
    "peptide_df.to_csv('preprocessed_datasets/2019_guo_nci60_formatted_peptide_quants.tsv', sep = '\\t')\n",
    "\n",
    "print(\"Final number of peptides \", peptide_df.shape[0])\n",
    "print(\"Final number of proteins \", len(np.unique(peptide_df['Protein'])))\n",
    "\n",
    "print(\"Final no of elements \", np.count_nonzero(peptide_df.fillna(0).values[:, -no_of_runs:]))\n",
    "print(\"Percentage of existing values \", 100 * np.count_nonzero(peptide_df.fillna(0).values[:, -no_of_runs:]) / (peptide_df.values[:, -no_of_runs:].shape[0] * peptide_df.values[:, -no_of_runs:].shape[1]))\n",
    "\n",
    "print(\"Final df \", peptide_df.shape)\n",
    "peptide_df\n"
   ]
  },
  {
   "cell_type": "markdown",
   "id": "tight-strength",
   "metadata": {},
   "source": [
    "## 5) One-hot encode peptide sequences"
   ]
  },
  {
   "cell_type": "code",
   "execution_count": null,
   "id": "backed-front",
   "metadata": {},
   "outputs": [],
   "source": [
    "%run \"../../../bin/onehot_encode_peptide_sequences.py\" \\\n",
    "             \"preprocessed_datasets/2019_guo_nci60_formatted_peptide_quants.tsv\" \\\n",
    "             \"120\" \\\n",
    "             \"preprocessed_datasets/2019_guo_nci60_onehot_encoded_peptide_quants.tsv\"             \n",
    "             "
   ]
  },
  {
   "cell_type": "code",
   "execution_count": null,
   "id": "occupied-retro",
   "metadata": {},
   "outputs": [],
   "source": []
  }
 ],
 "metadata": {
  "kernelspec": {
   "display_name": "Python 3",
   "language": "python",
   "name": "python3"
  },
  "language_info": {
   "codemirror_mode": {
    "name": "ipython",
    "version": 3
   },
   "file_extension": ".py",
   "mimetype": "text/x-python",
   "name": "python",
   "nbconvert_exporter": "python",
   "pygments_lexer": "ipython3",
   "version": "3.6.8"
  }
 },
 "nbformat": 4,
 "nbformat_minor": 5
}
