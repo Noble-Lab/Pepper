{
 "cells": [
  {
   "cell_type": "markdown",
   "id": "rising-tanzania",
   "metadata": {},
   "source": [
    "# Create plots for comparing robust and original Pepper model"
   ]
  },
  {
   "cell_type": "code",
   "execution_count": null,
   "id": "accompanied-swedish",
   "metadata": {},
   "outputs": [],
   "source": [
    "import pandas as pd\n",
    "import numpy as np\n",
    "\n",
    "import matplotlib.pyplot as plt\n",
    "import seaborn as sns\n",
    "\n",
    "from scipy import stats\n",
    "import scipy\n"
   ]
  },
  {
   "cell_type": "code",
   "execution_count": null,
   "id": "obvious-rapid",
   "metadata": {},
   "outputs": [],
   "source": [
    "noise_ratios = [0.0, 0.1, 0.2, 0.3, 0.4, 0.5, 0.6, 0.7, 0.8, 0.9, 1.0]\n",
    "original_results = []\n",
    "\n",
    "for noise in noise_ratios:\n",
    "    print(\"Noise \", noise)\n",
    "    sub_df = []\n",
    "    for run in range(10):\n",
    "        df = pd.read_csv('results/NCI-60_label_noise_simulation_results_original_model_noise_ratio_' + str(noise) + '_run' + str(run) + '.tsv',\n",
    "                         index_col = 0, sep = '\\t')\n",
    "        sub_df.append(df['Test improvement'].values)\n",
    "    sub_df = pd.DataFrame(sub_df, columns = [noise])\n",
    "    print(sub_df)\n",
    "    print(\"Mean score: \", sub_df)\n",
    "    original_results.append(sub_df)\n",
    "\n",
    "original_results = pd.concat(original_results, axis = 1)\n",
    "original_results"
   ]
  },
  {
   "cell_type": "code",
   "execution_count": null,
   "id": "consolidated-championship",
   "metadata": {
    "scrolled": true
   },
   "outputs": [],
   "source": [
    "noise_ratios = [0.0, 0.1, 0.2, 0.3, 0.4, 0.5, 0.6, 0.7, 0.8, 0.9, 1.0]\n",
    "robust_results = []\n",
    "\n",
    "for noise in noise_ratios:\n",
    "    print(\"Noise \", noise)\n",
    "    sub_df = []\n",
    "    for run in range(10):\n",
    "        df = pd.read_csv('results/NCI-60_label_noise_simulation_results_robust_model_noise_ratio_' + str(noise) + '_run' + str(run) + '.tsv',\n",
    "                         index_col = 0, sep = '\\t')\n",
    "        sub_df.append(df['Test improvement'].values)\n",
    "    sub_df = pd.DataFrame(sub_df, columns = [noise])\n",
    "    print(sub_df)\n",
    "    print(\"Mean score: \", sub_df)\n",
    "    robust_results.append(sub_df)\n",
    "\n",
    "robust_results = pd.concat(robust_results, axis = 1)\n",
    "robust_results"
   ]
  },
  {
   "cell_type": "code",
   "execution_count": null,
   "id": "friendly-behavior",
   "metadata": {},
   "outputs": [],
   "source": [
    "import matplotlib.pyplot as plt\n",
    "import seaborn as sns\n",
    "\n",
    "fig, ax = plt.subplots()\n",
    "fig.set_size_inches(30, 20)\n",
    "\n",
    "SMALL_SIZE = 30\n",
    "MEDIUM_SIZE = 40\n",
    "BIGGER_SIZE = 50\n",
    "\n",
    "plt.rc('font', size=SMALL_SIZE)          # controls default text sizes\n",
    "plt.rc('axes', titlesize=MEDIUM_SIZE)     # fontsize of the axes title\n",
    "plt.rc('axes', labelsize=MEDIUM_SIZE)    # fontsize of the x and y labels\n",
    "plt.rc('xtick', labelsize=MEDIUM_SIZE)    # fontsize of the tick labels\n",
    "plt.rc('ytick', labelsize=MEDIUM_SIZE)    # fontsize of the tick labels\n",
    "plt.rc('legend', fontsize=MEDIUM_SIZE)    # legend fontsize\n",
    "plt.rc('figure', titlesize=BIGGER_SIZE)  # fontsize of the figure title\n",
    "\n",
    "all_scores = np.mean(original_results, axis = 0)\n",
    "error_scores = stats.sem(original_results, axis = 0)\n",
    "\n",
    "plt.plot(noise_ratios, all_scores, 'o-', \n",
    "         lw = 10, markersize = 35, color='#eb4d4b', label = 'Coefficient predictor')\n",
    "plt.errorbar(noise_ratios, all_scores, error_scores, lw = 5,\n",
    "             linestyle='None', marker='^', color = '#eb4d4b')\n",
    "\n",
    "\n",
    "all_scores = np.mean(robust_results, axis = 0)\n",
    "error_scores = stats.sem(robust_results, axis = 0)\n",
    "\n",
    "plt.plot(noise_ratios, all_scores, 'o-', \n",
    "         lw = 10, markersize = 35, color='#4834d4', label = 'Robust coefficient predictor')\n",
    "plt.errorbar(noise_ratios, all_scores, error_scores, lw = 5,\n",
    "             linestyle='None', marker='^', color = '#4834d4')\n",
    "\n",
    "\n",
    "\n",
    "plt.xlabel('Percent of non-sibling peptides')\n",
    "plt.ylabel('Test set percent improvement \\n over baseline')\n",
    "plt.xticks(noise_ratios, [int(n * 100) for n in noise_ratios])\n",
    "plt.legend()\n",
    "plt.ylim([0, 40])\n",
    "plt.grid()"
   ]
  },
  {
   "cell_type": "code",
   "execution_count": null,
   "id": "secondary-underwear",
   "metadata": {},
   "outputs": [],
   "source": []
  },
  {
   "cell_type": "code",
   "execution_count": null,
   "id": "super-charger",
   "metadata": {},
   "outputs": [],
   "source": []
  },
  {
   "cell_type": "code",
   "execution_count": null,
   "id": "advance-spencer",
   "metadata": {},
   "outputs": [],
   "source": []
  }
 ],
 "metadata": {
  "kernelspec": {
   "display_name": "Python 3",
   "language": "python",
   "name": "python3"
  },
  "language_info": {
   "codemirror_mode": {
    "name": "ipython",
    "version": 3
   },
   "file_extension": ".py",
   "mimetype": "text/x-python",
   "name": "python",
   "nbconvert_exporter": "python",
   "pygments_lexer": "ipython3",
   "version": "3.6.8"
  }
 },
 "nbformat": 4,
 "nbformat_minor": 5
}
